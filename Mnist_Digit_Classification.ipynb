{
 "cells": [
  {
   "cell_type": "markdown",
   "metadata": {
    "colab_type": "text",
    "id": "z6UHmLYVhWAN"
   },
   "source": [
    "# Project 1: Digit Classification with KNN and Naive Bayes"
   ]
  },
  {
   "cell_type": "markdown",
   "metadata": {
    "colab_type": "text",
    "id": "03M_JSg3hWAO"
   },
   "source": [
    "In this project, you'll implement your own image recognition system for classifying digits. Read through the code and the instructions carefully and add your own code where indicated. Each problem can be addressed succinctly with the included packages -- please don't add any more. Grading will be based on writing clean, commented code, along with a few short answers.\n",
    "\n",
    "As always, you're welcome to work on the project in groups and discuss ideas on the course wall, but <b> please prepare your own write-up (with your own code). </b>\n",
    "\n",
    "If you're interested, check out these links related to digit recognition:\n",
    "\n",
    "* Yann Lecun's MNIST benchmarks: http://yann.lecun.com/exdb/mnist/\n",
    "* Stanford Streetview research and data: http://ufldl.stanford.edu/housenumbers/\n",
    "\n",
    "Finally, if you'd like to get started with Tensorflow, you can read through this tutorial: https://www.tensorflow.org/tutorials/keras/basic_classification. It uses a dataset called \"fashion_mnist\", which is identical in structure to the original digit mnist, but uses images of clothing rather than images of digits. The number of training examples and number of labels is the same. In fact, you can simply replace the code that loads \"fashion_mnist\" with \"mnist\" and everything should work fine."
   ]
  },
  {
   "cell_type": "code",
   "execution_count": 1,
   "metadata": {
    "colab": {},
    "colab_type": "code",
    "id": "iJ9ayCvyhWAP"
   },
   "outputs": [],
   "source": [
    "# This tells matplotlib not to try opening a new window for each plot.\n",
    "%matplotlib inline\n",
    "\n",
    "# Import a bunch of libraries.\n",
    "import time\n",
    "import numpy as np\n",
    "import matplotlib.pyplot as plt\n",
    "from matplotlib.ticker import MultipleLocator\n",
    "from sklearn.pipeline import Pipeline\n",
    "from sklearn.datasets import fetch_openml\n",
    "from sklearn.neighbors import KNeighborsClassifier\n",
    "from sklearn.metrics import confusion_matrix\n",
    "from sklearn.linear_model import LinearRegression\n",
    "from sklearn.naive_bayes import BernoulliNB\n",
    "from sklearn.naive_bayes import MultinomialNB\n",
    "from sklearn.naive_bayes import GaussianNB\n",
    "from sklearn.model_selection import GridSearchCV\n",
    "from sklearn.metrics import classification_report\n",
    "\n",
    "# Set the randomizer seed so results are the same each time.\n",
    "np.random.seed(0)"
   ]
  },
  {
   "cell_type": "markdown",
   "metadata": {
    "colab_type": "text",
    "id": "sO1t0ypThWAR"
   },
   "source": [
    "Load the data. Notice that the data gets partitioned into training, development, and test sets. Also, a small subset of the training data called mini_train_data and mini_train_labels gets defined, which you should use in all the experiments below, unless otherwise noted."
   ]
  },
  {
   "cell_type": "code",
   "execution_count": 2,
   "metadata": {
    "colab": {},
    "colab_type": "code",
    "id": "3yK9DacchWAS"
   },
   "outputs": [
    {
     "name": "stdout",
     "output_type": "stream",
     "text": [
      "data shape:  (70000, 784)\n",
      "label shape: (70000,)\n"
     ]
    }
   ],
   "source": [
    "# Load the digit data from https://www.openml.org/d/554 or from default local location '~/scikit_learn_data/...'\n",
    "X, Y = fetch_openml(name='mnist_784', return_X_y=True, cache=False)\n",
    "\n",
    "\n",
    "# Rescale grayscale values to [0,1].\n",
    "X = X / 255.0\n",
    "\n",
    "# Shuffle the input: create a random permutation of the integers between 0 and the number of data points and apply this\n",
    "# permutation to X and Y.\n",
    "# NOTE: Each time you run this cell, you'll re-shuffle the data, resulting in a different ordering.\n",
    "shuffle = np.random.permutation(np.arange(X.shape[0]))\n",
    "X, Y = X[shuffle], Y[shuffle]\n",
    "\n",
    "print('data shape: ', X.shape)\n",
    "print('label shape:', Y.shape)\n",
    "\n",
    "# Set some variables to hold test, dev, and training data.\n",
    "test_data, test_labels = X[61000:], Y[61000:]\n",
    "dev_data, dev_labels = X[60000:61000], Y[60000:61000]\n",
    "train_data, train_labels = X[:60000], Y[:60000]\n",
    "mini_train_data, mini_train_labels = X[:1000], Y[:1000]"
   ]
  },
  {
   "cell_type": "markdown",
   "metadata": {
    "colab_type": "text",
    "id": "atc2JpWKhWAV"
   },
   "source": [
    "### Part 1:\n",
    "\n",
    "Show a 10x10 grid that visualizes 10 examples of each digit.\n",
    "\n",
    "Notes:\n",
    "* You can use `plt.rc()` for setting the colormap, for example to black and white.\n",
    "* You can use `plt.subplot()` for creating subplots.\n",
    "* You can use `plt.imshow()` for rendering a matrix.\n",
    "* You can use `np.array.reshape()` for reshaping a 1D feature vector into a 2D matrix (for rendering)."
   ]
  },
  {
   "cell_type": "code",
   "execution_count": 3,
   "metadata": {
    "colab": {},
    "colab_type": "code",
    "id": "436UeH7JhWAW"
   },
   "outputs": [
    {
     "data": {
      "image/png": "[encoded data removed]",
      "text/plain": [
       "<Figure size 432x288 with 100 Axes>"
      ]
     },
     "metadata": {},
     "output_type": "display_data"
    }
   ],
   "source": [
    "def P1(num_examples=10):\n",
    "\n",
    "### STUDENT START ###\n",
    "    fig, ax = plt.subplots(num_examples, num_examples)   #subplots\n",
    "    for i in range(0, num_examples):  \n",
    "        data = mini_train_data[mini_train_labels == str(i)]  #selecting data that has labels equal to the number that we want\n",
    "        for j in range(num_examples):\n",
    "            random = data[np.random.randint(0, len(data))]  ## pick random datapoints from \"data\"\n",
    "            pix = random.reshape((28,28))    #reshape 1D into 2D matrix\n",
    "\n",
    "            ax[i,j].imshow(pix,cmap = 'gray')  #display image\n",
    "            ax[i,j].set_xticks([])    #get rid of axis ticks\n",
    "            ax[i,j].set_yticks([])    \n",
    "\n",
    "### STUDENT END ###\n",
    "\n",
    "P1(10)"
   ]
  },
  {
   "cell_type": "markdown",
   "metadata": {
    "colab_type": "text",
    "id": "EMQAHr7QhWAX"
   },
   "source": [
    "### Part 2:\n",
    "\n",
    "Produce k-Nearest-Neighbors model with k = [1,3,5,7,9].  Evaluate and show teh performance of each model. For the 1-Nearest Neighbor model, show precision, recall, and F1 for each label. Which is the most difficult digit?\n",
    "\n",
    "Notes:\n",
    "* Train on the mini train set.\n",
    "* Evaluate performance on the dev set.\n",
    "* You can use `KNeighborsClassifier` to produce a k-nearest neighbor model.\n",
    "* You can use `classification_report` to get precision, recall, and F1 results."
   ]
  },
  {
   "cell_type": "code",
   "execution_count": 4,
   "metadata": {
    "colab": {},
    "colab_type": "code",
    "id": "-it5pn8-hWAY"
   },
   "outputs": [
    {
     "name": "stdout",
     "output_type": "stream",
     "text": [
      "              precision    recall  f1-score   support\n",
      "\n",
      "           0       0.95      0.95      0.95       106\n",
      "           1       0.89      0.98      0.93       118\n",
      "           2       0.90      0.79      0.84       106\n",
      "           3       0.93      0.87      0.90        97\n",
      "           4       0.91      0.85      0.88        92\n",
      "           5       0.86      0.88      0.87        88\n",
      "           6       0.92      0.92      0.92       102\n",
      "           7       0.85      0.94      0.89       102\n",
      "           8       0.83      0.77      0.80        94\n",
      "           9       0.80      0.86      0.83        95\n",
      "\n",
      "    accuracy                           0.88      1000\n",
      "   macro avg       0.88      0.88      0.88      1000\n",
      "weighted avg       0.89      0.88      0.88      1000\n",
      "\n",
      "The performance for k = 1 is 0.884\n",
      "The performance for k = 3 is 0.876\n",
      "The performance for k = 5 is 0.882\n",
      "The performance for k = 7 is 0.877\n",
      "The performance for k = 9 is 0.875\n"
     ]
    }
   ],
   "source": [
    "from sklearn.metrics import accuracy_score\n",
    "def P2(k_values):\n",
    "\n",
    "### STUDENT START ###\n",
    "    for k in k_values:\n",
    "        model = KNeighborsClassifier(n_neighbors=k)        \n",
    "        model.fit(mini_train_data, mini_train_labels)   #fit model on mini training data and mini training labels\n",
    "        dev_predicted_labels = model.predict(dev_data)     #predict dev labels based on dev data\n",
    "        acc_score = accuracy_score(dev_labels, dev_predicted_labels) \n",
    "        \n",
    "        if k ==1:\n",
    "            print (classification_report(dev_labels, dev_predicted_labels))  #produce precision, recall, and F1\n",
    "        print (\"The performance for k = \" + str(k) +  \" is \" + str(acc_score))\n",
    "        \n",
    "\n",
    "    \n",
    "### STUDENT END ###\n",
    "\n",
    "k_values = [1, 3, 5, 7, 9]\n",
    "P2(k_values)"
   ]
  },
  {
   "cell_type": "markdown",
   "metadata": {
    "colab_type": "text",
    "id": "tZc9gzn5hWAZ"
   },
   "source": [
    "ANSWER:\n",
    "The model does decently well. For each k-value, it predicts digit labels correctly approximately 87% of the time. \n",
    "\n",
    "The precision, recall, and f1 score for k=1 are shown above. Because F1 is a metric that combines the precision and recall metrics, we know that if  F1 is high, then both the precision and recall of our K-Nearest Neighbors classifier imply good results. For our classifier, the most difficult digit is the digit 8.   The digit 8 has the lowest f1 score, meaning that either the precision or the recall is problematic, or both. "
   ]
  },
  {
   "cell_type": "markdown",
   "metadata": {
    "colab_type": "text",
    "id": "7b6YEAzzhWAa"
   },
   "source": [
    "### Part 3:\n",
    "\n",
    "Produce 1-Nearest Neighbor models using training data of various sizes.  Evaluate and show the performance of each model.  Additionally, show the time needed to measure the performance of each model.\n",
    "\n",
    "Notes:\n",
    "* Train on the train set.\n",
    "* Evaluate on the dev set.\n",
    "* You can use `KNeighborsClassifier` to produce a k-nearest neighbor model.\n",
    "* You can use `time.time()` to measure elapsed time of operations."
   ]
  },
  {
   "cell_type": "code",
   "execution_count": 5,
   "metadata": {
    "colab": {},
    "colab_type": "code",
    "id": "gEpNzDEjhWAa"
   },
   "outputs": [
    {
     "name": "stdout",
     "output_type": "stream",
     "text": [
      "Total time for training set size 100: 0.21741914749145508\n",
      "Dev set accuracy for training set size 100: 0.702\n",
      "Total time for training set size 200: 0.5470371246337891\n",
      "Dev set accuracy for training set size 200: 0.791\n",
      "Total time for training set size 400: 0.7159316539764404\n",
      "Dev set accuracy for training set size 400: 0.811\n",
      "Total time for training set size 800: 1.5591893196105957\n",
      "Dev set accuracy for training set size 800: 0.866\n",
      "Total time for training set size 1600: 2.9080309867858887\n",
      "Dev set accuracy for training set size 1600: 0.905\n",
      "Total time for training set size 3200: 6.108502626419067\n",
      "Dev set accuracy for training set size 3200: 0.927\n",
      "Total time for training set size 6400: 11.90877389907837\n",
      "Dev set accuracy for training set size 6400: 0.939\n",
      "Total time for training set size 12800: 24.268778562545776\n",
      "Dev set accuracy for training set size 12800: 0.952\n",
      "Total time for training set size 25600: 52.36767911911011\n",
      "Dev set accuracy for training set size 25600: 0.963\n"
     ]
    }
   ],
   "source": [
    "def P3(train_sizes, acc1):\n",
    "\n",
    "### STUDENT START ###\n",
    "    k = 1\n",
    "    for i in train_sizes:    #for each train size..\n",
    "        start = time.time()\n",
    "        sample_train_data = train_data[0:i]      #set the training data \n",
    "        sample_train_labels = train_labels[0:i]\n",
    "\n",
    "        model = KNeighborsClassifier(n_neighbors=k)\n",
    "        model.fit(sample_train_data, sample_train_labels)\n",
    "        \n",
    "        dev_predicted_labels = model.predict(dev_data)\n",
    "        end = time.time()\n",
    "        total_time = end - start\n",
    "        print (\"Total time for training set size \" + str(i) + \": \" + str(total_time))\n",
    "        \n",
    "        class_report = classification_report(dev_labels, dev_predicted_labels, output_dict=True)\n",
    "        print (\"Dev set accuracy for training set size \" + str(i) + \": \" + str(class_report['accuracy']))\n",
    "        acc1 = np.append(acc1,class_report[\"accuracy\"])\n",
    "    return acc1\n",
    "        \n",
    "\n",
    "### STUDENT END ###\n",
    "\n",
    "train_sizes = [100, 200, 400, 800, 1600, 3200, 6400, 12800, 25600]\n",
    "accuracies = []\n",
    "a = P3(train_sizes, accuracies)\n"
   ]
  },
  {
   "cell_type": "markdown",
   "metadata": {
    "colab_type": "text",
    "id": "B56lVsKNhWAc"
   },
   "source": [
    "### Part 4:\n",
    "\n",
    "Produce a regression model that predicts accuracy of a 1-Nearest Neighbor model given training set size. Show $R^2$ of the regression model and the accuracies it predicts for training set sizes 60000, 120000, and 1000000.  Show a lineplot of the actual accuracies and predicted accuracies vs. training set size.  What's wrong with using regression here?\n",
    "\n",
    "Apply some transformation that makes the predictions more reasonable.  Show $R^2$ of the improved regression model and the accuracies it predicts for training set sizes 60000, 120000, and 1000000.  Show a lineplot of the actual accuracies and predicted accuracies vs. training set size.\n",
    "\n",
    "Notes:\n",
    "* Train the regression models on all of the (transformed) accuracies estimated in Problem 3.\n",
    "* Evaluate the regression models on all of the (transformed) accuracies estimated in Problem 3.\n",
    "* You can use `LinearRegression` to produce a linear regression model.\n",
    "* Remember that the sklearn `fit()` functions take an input matrix X and output vector Y. So, each input example in X is a vector, even if it contains only a single value."
   ]
  },
  {
   "cell_type": "code",
   "execution_count": 6,
   "metadata": {
    "colab": {},
    "colab_type": "code",
    "id": "4xE_qIJghWAc"
   },
   "outputs": [
    {
     "name": "stdout",
     "output_type": "stream",
     "text": [
      "The R^2 of the regression model is 0.4177006634161019\n",
      "The predicted accuracies for the training set sizes 60000, 120000 and 1000000 respectively:  [[1.23617317]\n",
      " [1.63742805]\n",
      " [7.52249967]]\n"
     ]
    },
    {
     "data": {
      "image/png": "[encoded data removed]",
      "text/plain": [
       "<Figure size 432x288 with 1 Axes>"
      ]
     },
     "metadata": {
      "needs_background": "light"
     },
     "output_type": "display_data"
    },
    {
     "name": "stdout",
     "output_type": "stream",
     "text": [
      "The R^2 of the log regression model is 0.9068304252436642\n",
      "The predicted accuracies for the training set sizes 60000, 120000 and 1000000 respectively using the log model:  [[1.03358792]\n",
      " [1.06432125]\n",
      " [1.15833125]]\n"
     ]
    },
    {
     "data": {
      "image/png": "[encoded data removed]",
      "text/plain": [
       "<Figure size 432x288 with 1 Axes>"
      ]
     },
     "metadata": {
      "needs_background": "light"
     },
     "output_type": "display_data"
    }
   ],
   "source": [
    "def P4():\n",
    "\n",
    "### STUDENT START ###\n",
    "    \n",
    "    reshaped_train_sizes = np.array(train_sizes).reshape(-1,1)\n",
    "  \n",
    "    lin_model = LinearRegression().fit(reshaped_train_sizes, np.array(a).reshape(-1,1))\n",
    "    predicted_accuracy = lin_model.predict(np.array([60000, 120000, 1000000]).reshape(-1,1))\n",
    "    r2_model= lin_model.score(reshaped_train_sizes, a)  \n",
    "    print (\"The R^2 of the regression model is \" + str(r2_model))\n",
    "    print (\"The predicted accuracies for the training set sizes 60000, 120000 and 1000000 respectively:  \" + str(predicted_accuracy))\n",
    "    \n",
    "    \n",
    "    \n",
    "    #scatterplot of train sizes up to 25k and actual accuracies\n",
    "    plt.scatter(reshaped_train_sizes, a)\n",
    "    \n",
    "    #lineplot of train sizes up to 25k and predicted accuracies for those train sizes\n",
    "    plt.plot(reshaped_train_sizes, lin_model.predict(reshaped_train_sizes), color = 'r') \n",
    "    plt.title(\"Linear Regression of Train Sizes and Accuracies\", fontsize=16, fontweight='bold')\n",
    "    plt.xlabel(\"Train Sizes\")\n",
    "    plt.ylabel(\"Accuracies\")\n",
    "    plt.show()\n",
    "    \n",
    "    \n",
    "    ##log transformation\n",
    "    log_reshaped_train_sizes = (np.log(reshaped_train_sizes))\n",
    "    \n",
    "    log_lin_model = LinearRegression().fit(log_reshaped_train_sizes, np.array(a).reshape(-1,1))\n",
    "    log_predicted_accuracy = log_lin_model.predict(np.log(np.array([60000, 120000, 1000000])).reshape(-1,1))\n",
    "    r2_log = log_lin_model.score(log_reshaped_train_sizes, a)\n",
    "    print (\"The R^2 of the log regression model is \" + str(r2_log))\n",
    "    print (\"The predicted accuracies for the training set sizes 60000, 120000 and 1000000 respectively using the log model:  \" + str(log_predicted_accuracy))\n",
    "    \n",
    "    \n",
    "\n",
    "    plt.scatter(log_reshaped_train_sizes, a)\n",
    "    plt.plot(log_reshaped_train_sizes, log_lin_model.predict(log_reshaped_train_sizes), color = 'r')\n",
    "    plt.title(\"Log Transformation of Linear Regression Predicting Accuracy Given Training Set Size\", fontsize=16, fontweight='bold')\n",
    "    plt.xlabel(\"Log Train Sizes\")\n",
    "    plt.ylabel(\"Accuracies\")\n",
    "    plt.show()\n",
    "    \n",
    "\n",
    "\n",
    "### STUDENT END ###\n",
    "\n",
    "  \n",
    "    \n",
    "P4()"
   ]
  },
  {
   "cell_type": "markdown",
   "metadata": {
    "colab_type": "text",
    "id": "HYYYL9cGhWAe"
   },
   "source": [
    "ANSWER:\n",
    "I plotted the actual accuracies for the training sizes as blue dots. The red line is the regression line. As we can see with the regression line, it is a linear line that predicts that accuracies will continue to increase as train sizes increase. However, the problem with this is that acccuracies cannot go above 100%, so having accuracies continue to increase above 1 will not make sense. To fix this, I used a log transformation to transform our skewed data so that it would be within the range that we want. While the accuracies that our log model predicts for train sizes 60k, 120k, and 1 million are above 1, they are only slightly above 1. This means that our log transformation was able to scale our data the way we wanted to by keeping the accuracies close to 1 (since the goal was to have the accuracies between 0 and 1)."
   ]
  },
  {
   "cell_type": "markdown",
   "metadata": {
    "colab_type": "text",
    "id": "geAQJjGRhWAe"
   },
   "source": [
    "### Part 5:\n",
    "\n",
    "Produce a 1-Nearest Neighbor model and show the confusion matrix. Which pair of digits does the model confuse most often? Show the images of these most often confused digits.\n",
    "\n",
    "Notes:\n",
    "- Train on the mini train set.\n",
    "- Evaluate performance on the dev set.\n",
    "- You can use `confusion_matrix()` to produce a confusion matrix."
   ]
  },
  {
   "cell_type": "code",
   "execution_count": 7,
   "metadata": {
    "colab": {},
    "colab_type": "code",
    "id": "Bq36xaQohWAf"
   },
   "outputs": [
    {
     "data": {
      "text/plain": [
       "array([[101,   0,   1,   0,   0,   0,   1,   1,   2,   0],\n",
       "       [  0, 116,   1,   0,   0,   0,   0,   0,   1,   0],\n",
       "       [  1,   4,  84,   2,   2,   0,   2,   4,   6,   1],\n",
       "       [  0,   2,   0,  84,   0,   6,   0,   2,   3,   0],\n",
       "       [  0,   0,   1,   0,  78,   0,   0,   2,   0,  11],\n",
       "       [  2,   0,   0,   1,   1,  77,   5,   0,   2,   0],\n",
       "       [  1,   2,   1,   0,   1,   2,  94,   0,   1,   0],\n",
       "       [  0,   1,   1,   0,   0,   0,   0,  96,   0,   4],\n",
       "       [  1,   5,   4,   3,   1,   3,   0,   1,  72,   4],\n",
       "       [  0,   1,   0,   0,   3,   2,   0,   7,   0,  82]], dtype=int64)"
      ]
     },
     "execution_count": 7,
     "metadata": {},
     "output_type": "execute_result"
    },
    {
     "data": {
      "image/png": "[encoded data removed]",
      "text/plain": [
       "<Figure size 1080x1080 with 11 Axes>"
      ]
     },
     "metadata": {},
     "output_type": "display_data"
    },
    {
     "data": {
      "image/png": "[encoded data removed]",
      "text/plain": [
       "<Figure size 1080x1080 with 3 Axes>"
      ]
     },
     "metadata": {},
     "output_type": "display_data"
    }
   ],
   "source": [
    "def P5():\n",
    "\n",
    "### STUDENT START ###\n",
    "    k = 1\n",
    "    \n",
    "    model = KNeighborsClassifier(n_neighbors=k)        \n",
    "    model.fit(mini_train_data, mini_train_labels)   #fit model on mini training data and mini training labels\n",
    "    dev_predicted_labels = model.predict(dev_data)     #predict dev labels based on dev data\n",
    "    \n",
    "    cmatrix = confusion_matrix(dev_labels, dev_predicted_labels)\n",
    "    \n",
    "    \n",
    "    #showing 4s that get cnfused\n",
    "    wrong_labels = dev_data[(dev_labels == str(4)) & (str(9) == dev_predicted_labels)]\n",
    "    \n",
    "    fig, ax = plt.subplots(1, len(wrong_labels), figsize = (15,15))\n",
    "    for i in range(len(wrong_labels)):\n",
    "        pix = wrong_labels[i].reshape((28,28))\n",
    "        ax[i].imshow(pix, cmap = 'gray')\n",
    "        ax[i].set_xticks([])\n",
    "        ax[i].set_yticks([])\n",
    "        \n",
    "    \n",
    "   #showing the 9's that  get confused \n",
    "    wrong_labels_nine = dev_data[(dev_labels == str(9)) & (str(4) == dev_predicted_labels)]\n",
    "    fig, ax = plt.subplots(1,len(wrong_labels_nine), figsize = (15,15))\n",
    "    for i in range(len(wrong_labels_nine)):\n",
    "        pix = wrong_labels_nine[i].reshape((28,28))\n",
    "        ax[i].imshow(pix, cmap = 'gray')\n",
    "        ax[i].set_xticks([])\n",
    "        ax[i].set_yticks([])\n",
    "    \n",
    "    return cmatrix              \n",
    "                \n",
    "### STUDENT END ###\n",
    "\n",
    "P5()"
   ]
  },
  {
   "cell_type": "markdown",
   "metadata": {},
   "source": [
    "ANSWER: \n",
    "The model confuses the digits 4 and 9 the most. When we look at the confusion matrix, we can see that in the 5th row, 10th column (which corresponds to digits 4 and 9), there is an 11. This means that In the 10th row and 5th column, there is a 3. This means that 11 digits that are actually 4's are wrongly labeled as 9s. Furthermore, the confusion matrix shows that in the 10th row, 5th column (which corresponds to digits 9 and 4), there is a 3. This means that there are 3 actual 9s that are confused as 4s.  I show the 4s and 9s that get confused above."
   ]
  },
  {
   "cell_type": "markdown",
   "metadata": {
    "colab_type": "text",
    "id": "tgqMKb-hhWAh"
   },
   "source": [
    "### Part 6:\n",
    "\n",
    "A common image processing technique is to smooth an image by blurring. The idea is that the value of a particular pixel is estimated as the weighted combination of the original value and the values around it. Typically, the blurring is Gaussian, i.e., the weight of a pixel's influence is determined by a Gaussian function over the distance to the relevant pixel.\n",
    "\n",
    "Implement a simplified Gaussian blur by just using the 8 neighboring pixels like this: the smoothed value of a pixel is a weighted combination of the original value and the 8 neighboring values.\n",
    "\n",
    "Apply your blur filter in 3 ways:\n",
    "- Filter the training data but not the dev data\n",
    "- Filter the dev data but not the training data\n",
    "- Filter both training data and dev data\n",
    "\n",
    "Show the accuracy resulting no filter and from each way you apply the filter.\n",
    "\n",
    "Notes:\n",
    "* Train on the (filtered) mini train set.\n",
    "* Evaluate performance on the (filtered) dev set.\n",
    "* There are Guassian blur filters available, for example in `scipy.ndimage.filters`. You are welcome to experiment with those, but you are likely to get the best results with the simplified version described above."
   ]
  },
  {
   "cell_type": "code",
   "execution_count": 8,
   "metadata": {
    "colab": {},
    "colab_type": "code",
    "id": "lSKHmHGshWAi"
   },
   "outputs": [
    {
     "name": "stdout",
     "output_type": "stream",
     "text": [
      "The performance for unfiltered train data and unfiltered dev data is 0.884\n",
      "Accuracy of filtered mini train data and unfiltered dev data: 0.911\n",
      "Accuracy of filtering only dev data: 0.848\n",
      "Accuracy of filtering both training and dev data: 0.905\n"
     ]
    }
   ],
   "source": [
    "def P6(data):\n",
    "    \n",
    "### STUDENT START ###\n",
    "\n",
    "    def neighbors_and_self(pixel):\n",
    "        n = [pixel]\n",
    "        for i in range(pixel[0]-1, pixel[0]+2):\n",
    "            for j in range(pixel[1]-1, pixel[1] + 2):\n",
    "                if (pixel[0] != i or pixel[1] != j) and -1 < pixel[0] < 28 and -1 < pixel[1] < 28 and 0 <= i <28 and 0 <= j < 28:\n",
    "                    n.append([i,j])\n",
    "        return n\n",
    "\n",
    "    def gaussian(x):\n",
    "        x_copy = x.copy()\n",
    "        for i,data in enumerate(x):   \n",
    "            for j in range(len(data)):\n",
    "                nb = neighbors_and_self([i,j])\n",
    "    \n",
    "                p = 0\n",
    "                counter = 1\n",
    "                for k in nb:\n",
    "                    r_val = k[0]\n",
    "                    c_val= k[1]\n",
    "                    total_pvalue = x[r_val][c_val]\n",
    "                    p += total_pvalue\n",
    "                    counter +=1\n",
    "                x_copy[i][j] = p/counter         #put avg into corresponding point in the copy of x\n",
    "        return x_copy\n",
    "    \n",
    "    all_blurred = []\n",
    "    for i in range(len(data)):\n",
    "        image = data[i].reshape(28,28)\n",
    "        blurred = gaussian(image)\n",
    "        all_blurred.append(blurred.reshape(784))\n",
    "\n",
    "    return np.array(all_blurred)\n",
    "  \n",
    "\n",
    "\n",
    "### STUDENT END ###\n",
    "\n",
    "P6(dev_data)\n",
    "\n",
    "\n",
    "model = KNeighborsClassifier(n_neighbors=1)        \n",
    "model.fit(mini_train_data, mini_train_labels)   #fit model on mini training data and mini training labels\n",
    "dev_predicted_labels = model.predict(dev_data)     #predict dev labels based on dev data\n",
    "class_report = classification_report(dev_labels, dev_predicted_labels, output_dict = True)  #produce precision, recall, and F1\n",
    "print (\"The performance for unfiltered train data and unfiltered dev data is \" + str(class_report['accuracy']))\n",
    "        \n",
    "\n",
    "## Model where I Filter the training data but not the dev data\n",
    "model = KNeighborsClassifier(n_neighbors=1)  \n",
    "blurry_mini_train = P6(mini_train_data)\n",
    "model.fit(blurry_mini_train, mini_train_labels)   \n",
    "dev_pred_labels = model.predict(dev_data)     \n",
    "class_report = classification_report(dev_labels, dev_pred_labels, output_dict=True)\n",
    "acc_score = accuracy_score(dev_labels, dev_pred_labels) \n",
    "print (\"Accuracy of filtered mini train data and unfiltered dev data: \" + str(class_report['accuracy']))\n",
    "\n",
    "### Model where I filter only the dev data\n",
    "mod = KNeighborsClassifier(n_neighbors=1)  \n",
    "blurry_dev_data = P6(dev_data)\n",
    "mod.fit(mini_train_data, mini_train_labels)   \n",
    "dev_p_labels = mod.predict(blurry_dev_data)     \n",
    "class_report = classification_report(dev_labels, dev_p_labels, output_dict=True)\n",
    "print (\"Accuracy of filtering only dev data: \" + str(class_report['accuracy']))  \n",
    "                                                     \n",
    "### Model where I filter both the train data and the dev data\n",
    "m = KNeighborsClassifier(n_neighbors=1)                                                    \n",
    "m.fit(blurry_mini_train, mini_train_labels)   \n",
    "dev_p_labels_both_blurred = m.predict(blurry_dev_data)     \n",
    "class_report = classification_report(dev_labels, dev_p_labels_both_blurred, output_dict=True)\n",
    "print (\"Accuracy of filtering both training and dev data: \" + str(class_report['accuracy']))                               \n",
    "                                      "
   ]
  },
  {
   "cell_type": "markdown",
   "metadata": {},
   "source": [
    "The accuracy of training on blurred data and testing on unblurred data is pretty high at 0.903. This makes sense because training on blurred data makes the model train on more general data so that when it tests on data that is more specific and clearer, it is easier for the model to make predictions.  When we blurred just the dev data, the model did worse because it was trained on more specific data, so when it tests on more generalized data, it has a harder time accurately predicting the correct labels. Finally, when the model blurs both the training and the dev data, it does pretty well, because it is easier to test on data that is just as general as the data it was trained on."
   ]
  },
  {
   "cell_type": "markdown",
   "metadata": {
    "colab_type": "text",
    "id": "LtgepWfAhWAk"
   },
   "source": [
    "### Part 7:\n",
    "\n",
    "Produce two Naive Bayes models and evaluate their performances.  Recall that Naive Bayes estimates P(feature|label), where each label is a categorical, not a real number.\n",
    "\n",
    "For the first model, map pixel values to either 0 or 1, representing white or black - you should pre-process the data or use `BernoulliNB`'s `binarize` parameter.  Use some reasonable threshold to separate white from black.  Use `BernoulliNB` to produce the model.\n",
    "\n",
    "For the second model, map pixel values to either 0, 1, or 2, representing white, gray, or black - you should pre-process the data.  Use some reasonable thresholds to separate white from gray from black.  Use `MultinomialNB` to produce the model. \n",
    "\n",
    "Show the Bernoulli model accuracy and the Multinomial model accuracy.\n",
    "\n",
    "Notes:\n",
    "* Train on the mini train set.\n",
    "* Evaluate performance on the dev set.\n",
    "* `sklearn`'s Naive Bayes methods can handle real numbers, but for this exercise explicitly do the mapping to categoricals. \n",
    "\n",
    "Does the multinomial version improve the results? Why or why not?"
   ]
  },
  {
   "cell_type": "code",
   "execution_count": 9,
   "metadata": {
    "colab": {},
    "colab_type": "code",
    "id": "eGpH-4IQhWAk"
   },
   "outputs": [
    {
     "name": "stdout",
     "output_type": "stream",
     "text": [
      "Bernoulli model accuracy: 0.819\n",
      "Multinomial model accuracy: 0.813\n"
     ]
    }
   ],
   "source": [
    "from sklearn.preprocessing import binarize\n",
    "\n",
    "def P7():\n",
    "    \n",
    "### STUDENT START ###\n",
    "    \n",
    "    binarized_train_data = binarize(mini_train_data, threshold = 0.5, copy = False)\n",
    "    binarized_dev_data = binarize(dev_data, threshold = 0.5, copy = False)\n",
    "    \n",
    "    \n",
    "    #bernoulli model\n",
    "    classifier = BernoulliNB(binarize = 0.5)\n",
    "    classifier.fit(binarized_train_data, mini_train_labels)\n",
    "    dev_predicted_labels_b = classifier.predict(binarized_dev_data)\n",
    "     \n",
    "    class_report = classification_report(dev_labels, dev_predicted_labels_b, output_dict=True)\n",
    "    print (\"Bernoulli model accuracy: \" + str(class_report['accuracy']))\n",
    "    \n",
    "\n",
    "    #multinomial model\n",
    "    def bucket(dataset):\n",
    "        zero = np.where(dataset < 0.33, 0, dataset)\n",
    "        two = np.where(zero >= 0.66, 2, zero)\n",
    "        one = np.where((two >= 0.33) & (two < 0.66), 1, two)\n",
    "        \n",
    "        \n",
    "        return one\n",
    "\n",
    "    bucketed_train_data = bucket(mini_train_data)\n",
    "    bucketed_dev_data = bucket(dev_data)\n",
    "        \n",
    "    classifier = MultinomialNB()\n",
    "    classifier.fit(bucketed_train_data, mini_train_labels)\n",
    "    dev_predicted_labels_m = classifier.predict(bucketed_dev_data)\n",
    "     \n",
    "    class_report = classification_report(dev_labels, dev_predicted_labels_m, output_dict=True)\n",
    "    print (\"Multinomial model accuracy: \" + str(class_report['accuracy']))\n",
    "    \n",
    "\n",
    "    \n",
    "### STUDENT END ###\n",
    "\n",
    "P7()"
   ]
  },
  {
   "cell_type": "markdown",
   "metadata": {
    "colab_type": "text",
    "id": "zNLrgggohWAm"
   },
   "source": [
    "ANSWER:  The multinomial model does not improve the results. The reason for this is because digits have mostly white and black pixels, but there are not very many grey pixels. Therefore, mapping pixels values to represent grey confuses the model instead of helping it to generalize. "
   ]
  },
  {
   "cell_type": "markdown",
   "metadata": {
    "colab_type": "text",
    "id": "PqjbRLg7hWAm"
   },
   "source": [
    "### Part 8:\n",
    "\n",
    "Search across several values for the LaPlace smoothing parameter (alpha) to find its effect on a Bernoulli Naive Bayes model's performance.  Show the accuracy at each alpha value.\n",
    "\n",
    "Notes:\n",
    "* Train on the mini train set.\n",
    "* Vary alpha and evaulate performance using `GridSearchCV` to cross-validate.\n",
    "* Cross-validation is based on partitions of the training data, so results will be a bit different than if you used the dev set to evaluate performance.\n",
    "\n",
    "What is the best value for alpha? What is the accuracy when alpha is near 0? Is this what you'd expect?"
   ]
  },
  {
   "cell_type": "code",
   "execution_count": 10,
   "metadata": {
    "colab": {},
    "colab_type": "code",
    "id": "0AvZ-Wp3hWAn"
   },
   "outputs": [
    {
     "name": "stderr",
     "output_type": "stream",
     "text": [
      "C:\\Users\\chels\\Anaconda3\\lib\\site-packages\\sklearn\\model_selection\\_split.py:1978: FutureWarning: The default value of cv will change from 3 to 5 in version 0.22. Specify it explicitly to silence this warning.\n",
      "  warnings.warn(CV_WARNING, FutureWarning)\n"
     ]
    },
    {
     "name": "stdout",
     "output_type": "stream",
     "text": [
      "[0.814 0.825 0.827 0.825 0.821 0.815 0.811 0.803 0.744]\n",
      "Best alpha =  {'alpha': 0.001}\n"
     ]
    }
   ],
   "source": [
    "def P8(alphas):\n",
    "\n",
    "### STUDENT START ###\n",
    "    binarized_model = BernoulliNB()\n",
    "    mod = GridSearchCV(binarized_model, param_grid = alphas, return_train_score = True) #cross-val: train on different partitions of same dataset\n",
    "    mod.fit(mini_train_data, mini_train_labels)\n",
    "    return mod\n",
    "\n",
    "\n",
    "### STUDENT END ###\n",
    "\n",
    "alphas = {'alpha': [1.0e-10, 0.0001, 0.001, 0.01, 0.1, 0.5, 1.0, 2.0, 10.0]}\n",
    "nb = P8(alphas)\n",
    "\n",
    "print(nb.cv_results_['mean_test_score'])\n",
    "print(\"Best alpha = \", nb.best_params_)\n"
   ]
  },
  {
   "cell_type": "markdown",
   "metadata": {
    "colab_type": "text",
    "id": "1yEg9keThWAp"
   },
   "source": [
    "ANSWER:   The best value for alpha is 0.001. The accuracy when alpha is near 0 is 0.814. (NOTE: if I try the to get accuracy when alpha = 10e-11 then I get an error saying that alpha is to small). This is what I would expect because when alpha is equal to 0, there is no smoothing occurring."
   ]
  },
  {
   "cell_type": "markdown",
   "metadata": {
    "colab_type": "text",
    "id": "B07GDiDdhWAq"
   },
   "source": [
    "### Part 9:\n",
    "\n",
    "Produce a model using Guassian Naive Bayes, which is intended for real-valued features, and evaluate performance. You will notice that it does not work so well. Diagnose the problem and apply a simple fix so that the model accuracy is around the same as for a Bernoulli Naive Bayes model. Show the model accuracy before your fix and the model accuracy after your fix.  Explain your solution.\n",
    "\n",
    "Notes:\n",
    "* Train on the mini train set.\n",
    "* Evaluate performance on the dev set.\n",
    "* Consider the effects of theta and sigma.  These are stored in the model's `theta_` and `sigma_` attributes."
   ]
  },
  {
   "cell_type": "code",
   "execution_count": 11,
   "metadata": {
    "colab": {},
    "colab_type": "code",
    "id": "gBLbTMWChWAq"
   },
   "outputs": [
    {
     "name": "stdout",
     "output_type": "stream",
     "text": [
      "Model accuracy before fix: 0.611\n",
      "Model accuracy after fix: 0.814\n"
     ]
    },
    {
     "data": {
      "image/png": "[encoded data removed]",
      "text/plain": [
       "<Figure size 432x288 with 1 Axes>"
      ]
     },
     "metadata": {
      "needs_background": "light"
     },
     "output_type": "display_data"
    }
   ],
   "source": [
    "from sklearn.preprocessing import normalize\n",
    "def P9():\n",
    "\n",
    "### STUDENT END ###\n",
    "\n",
    "    #gaussian model \n",
    "    model = GaussianNB()\n",
    "    model.fit(mini_train_data, mini_train_labels)\n",
    "    p_dev_labels = model.predict(dev_data)\n",
    "    \n",
    "    class_report = classification_report(dev_labels, p_dev_labels, output_dict= True)\n",
    "    acc = class_report['accuracy']\n",
    "    print (\"Model accuracy before fix: \" + str(acc))\n",
    "    \n",
    "    #look at the distributions of the theta and sigmas \n",
    "    plt.hist(model.theta_[7], label = \"theta\", bins = 40)\n",
    "    plt.hist(model.sigma_[7], label = 'sigma', bins = 40)\n",
    "    plt.legend()\n",
    "    plt.title(\"Histogram of Distribution of Theta and Sigma of the Model\")\n",
    "    \n",
    "    #fiixing our model\n",
    "    fix_model = GaussianNB()\n",
    "    fix_model.fit(mini_train_data, mini_train_labels)\n",
    "\n",
    "    fix_model.theta_ = fix_model.theta_ +.1\n",
    "    fix_model.sigma_ = fix_model.sigma_ + .01\n",
    "    pred_dev_labels = fix_model.predict(dev_data)\n",
    "    \n",
    "    class_report = classification_report(dev_labels, pred_dev_labels, output_dict= True)\n",
    "    acc = class_report['accuracy']\n",
    "    print (\"Model accuracy after fix: \" + str(acc))\n",
    "\n",
    "    \n",
    "### STUDENT END ###\n",
    "\n",
    "P9()"
   ]
  },
  {
   "cell_type": "markdown",
   "metadata": {
    "colab_type": "text",
    "id": "1SyHTEJohWAt"
   },
   "source": [
    "ANSWER:  When I look at the distribution of theta and sigma values, I realize there are many values at 0. To fix my model, I use LaPlace smoothing by adding 0.1 to my model's theta values and 0.01 to my model's sigma values.    I added small  LaPlace smoothing parameters because my theta and sigma values are very small (<1), so very small values helped me to get the best accuracy for my model."
   ]
  },
  {
   "cell_type": "markdown",
   "metadata": {
    "colab_type": "text",
    "id": "dgZMuc1VhWAt"
   },
   "source": [
    "### Part 10:\n",
    "\n",
    "Because Naive Bayes produces a generative model, you can use it to generate digit images.\n",
    "\n",
    "Produce a Bernoulli Naive Bayes model and then use it to generate a 10x20 grid with 20 example images of each digit. Each pixel output should be either 0 or 1, based on comparing some randomly generated number to the estimated probability of the pixel being either 0 or 1.  Show the grid.\n",
    "\n",
    "Notes:\n",
    "* You can use np.random.rand() to generate random numbers from a uniform distribution.\n",
    "* The estimated probability of each pixel being 0 or 1 is stored in the model's `feature_log_prob_` attribute. You can use `np.exp()` to convert a log probability back to a probability.\n",
    "\n",
    "How do the generated digit images compare to the training digit images?"
   ]
  },
  {
   "cell_type": "code",
   "execution_count": 12,
   "metadata": {
    "colab": {},
    "colab_type": "code",
    "id": "ktii-Mp-hWAu"
   },
   "outputs": [
    {
     "data": {
      "image/png": "[encoded data removed]",
      "text/plain": [
       "<Figure size 1080x1080 with 200 Axes>"
      ]
     },
     "metadata": {},
     "output_type": "display_data"
    }
   ],
   "source": [
    "def P10(num_examples):\n",
    "\n",
    "### STUDENT START ###\n",
    "    fig, ax = plt.subplots(10,20, figsize = (15,15))\n",
    "    \n",
    "    binarized_train_data = binarize(mini_train_data, threshold = 0.5, copy = False)  #make each pixel 0 or 1 depending on above or below threshold\n",
    "    binarized_dev_data = binarize(dev_data, threshold = 0.5, copy = False)\n",
    "    \n",
    "    #bernoulli mode\n",
    "    classifier = BernoulliNB(binarize = 0.5)\n",
    "    classifier.fit(binarized_train_data, mini_train_labels)\n",
    "    estimated_probability = np.exp(classifier.feature_log_prob_)  #prob of each pixel being 0 or 1\n",
    "    \n",
    "       #if the random number is less than the estimated probability.\n",
    "        \n",
    "  \n",
    "    for i in range(20):\n",
    "        #data = pixels[mini_train_labels == str(i)]\n",
    "        for j in range(10):  \n",
    "            random_numbers = np.random.rand(10, 784)\n",
    "            new_array = estimated_probability - random_numbers\n",
    "            pixels = []\n",
    "            for k in new_array:\n",
    "                for m in k:\n",
    "                    if m >=0:\n",
    "                        pixels.append(1)\n",
    "                    else:\n",
    "                        pixels.append(0)\n",
    "            pixels = np.array(pixels).reshape(10,784)\n",
    "            pix = pixels[j].reshape((28,28))\n",
    "            ax[j,i].imshow(pix, cmap = 'gray')\n",
    "            ax[j,i].set_xticks([])\n",
    "            ax[j,i].set_yticks([])\n",
    "            \n",
    "        \n",
    "\n",
    "### STUDENT END ###\n",
    "\n",
    "P10(20)"
   ]
  },
  {
   "cell_type": "markdown",
   "metadata": {
    "colab_type": "text",
    "id": "SuQd1fTGhWAw"
   },
   "source": [
    "ANSWER:\n",
    "The generated digit images are not nearly as clear as the training digit images. Within the white part of the generated digits, there are many black spaces, making the image look more like there are many white datapoints in the general shape of a digit rather than like an image of a digit. It is possible to determine what the digit should be from the general shape of the pixels, but the training digit images are a lot clearer than these images above."
   ]
  },
  {
   "cell_type": "markdown",
   "metadata": {
    "colab_type": "text",
    "id": "ksHMg73uhWAx"
   },
   "source": [
    "### Part 11:\n",
    "\n",
    "Recall that a strongly calibrated classifier is rougly 90% accurate when the posterior probability of the predicted class is 0.9. A weakly calibrated classifier is more accurate when the posterior probability of the predicted class is 90% than when it is 80%. A poorly calibrated classifier has no positive correlation between posterior probability and accuracy.  \n",
    "\n",
    "Produce a Bernoulli Naive Bayes model.  Evaluate performance: partition the dev set into several buckets based on the posterior probabilities of the predicted classes - think of a bin in a histogram- and then estimate the accuracy for each bucket. So, for each prediction, find the bucket to which the maximum posterior probability belongs, and update \"correct\" and \"total\" counters accordingly.  Show the accuracy for each bucket.\n",
    "\n",
    "Notes:\n",
    "* Train on the mini train set.\n",
    "* Evaluate perfromance on the dev set.\n",
    "* Apply a reasonable Laplace smoothing (alpha) value.\n",
    "\n",
    "How would you characterize the calibration for this Bernoulli Naive Bayes model?"
   ]
  },
  {
   "cell_type": "code",
   "execution_count": 13,
   "metadata": {
    "colab": {},
    "colab_type": "code",
    "id": "a1N-St12hWAy"
   },
   "outputs": [
    {
     "name": "stdout",
     "output_type": "stream",
     "text": [
      "p(pred) is 0.0000000000000 to 0.5000000000000    total =   0    accuracy = 0.000\n",
      "p(pred) is 0.5000000000000 to 0.9000000000000    total =  36    accuracy = 0.389\n",
      "p(pred) is 0.9000000000000 to 0.9990000000000    total =  90    accuracy = 0.444\n",
      "p(pred) is 0.9990000000000 to 0.9999900000000    total =  69    accuracy = 0.565\n",
      "p(pred) is 0.9999900000000 to 0.9999999000000    total =  67    accuracy = 0.672\n",
      "p(pred) is 0.9999999000000 to 0.9999999990000    total =  50    accuracy = 0.820\n",
      "p(pred) is 0.9999999990000 to 0.9999999999900    total =  72    accuracy = 0.903\n",
      "p(pred) is 0.9999999999900 to 0.9999999999999    total =  66    accuracy = 0.894\n",
      "p(pred) is 0.9999999999999 to 1.0000000000000    total = 550    accuracy = 0.955\n"
     ]
    }
   ],
   "source": [
    "def P11(buckets, correct, total):\n",
    "   \n",
    "    ### STUDENT START ###\n",
    "    binarized_dev_data = binarize(dev_data, threshold = 0.5, copy = False)\n",
    "    binarized_train_data = binarize(mini_train_data, threshold = 0.5, copy = False)\n",
    "    \n",
    "    #bernoulli model\n",
    "    classifier = BernoulliNB(alpha = .001)\n",
    "    classifier.fit(binarized_train_data, mini_train_labels)\n",
    "    predicted_probabilities = classifier.predict_proba(binarized_dev_data)  #predicts probabilities of label given data\n",
    "\n",
    "\n",
    "\n",
    "    pred_label_from_prob = []\n",
    "    maxs = []\n",
    "    for row in predicted_probabilities: \n",
    "        max_prob = max(row)\n",
    "        label = list(row).index(max_prob)   #this is the label that we predict from the max posterior prob\n",
    "        maxs.append(max_prob)\n",
    "        pred_label_from_prob.append(str(label))  #make them strings so we can compare to dev predicted labels\n",
    "     \n",
    "       \n",
    "\n",
    "    index_bin = np.digitize(maxs, buckets, right = True) #gives index of the bucket. \n",
    "\n",
    "    for i,index in enumerate(index_bin):\n",
    "        #estimate accuracy for each bin\n",
    "        if dev_labels[i] == pred_label_from_prob[i]:\n",
    "            correct[index] += 1\n",
    "            total[index] += 1\n",
    "        else:\n",
    "            total[index] += 1\n",
    "\n",
    "  \n",
    "    ### STUDENT END ###\n",
    "\n",
    "buckets = [0.5, 0.9, 0.999, 0.99999, 0.9999999, 0.999999999, 0.99999999999, 0.9999999999999, 1.0]\n",
    "correct = [0 for i in buckets]\n",
    "total = [0 for i in buckets]\n",
    "\n",
    "P11(buckets, correct, total)\n",
    "\n",
    "for i in range(len(buckets)):\n",
    "    accuracy = 0.0\n",
    "    if (total[i] > 0): accuracy = correct[i] / total[i]\n",
    "    print('p(pred) is %.13f to %.13f    total = %3d    accuracy = %.3f' % (0 if i==0 else buckets[i-1], buckets[i], total[i], accuracy))"
   ]
  },
  {
   "cell_type": "markdown",
   "metadata": {
    "colab_type": "text",
    "id": "h-4qQsrrhWA1"
   },
   "source": [
    "ANSWER:  My Bernoulli Naive Bayes model generally has a lower accuracy than the posterior probability of the predicted class.  There is also a positive correlation between the posterior probabilities and the accuracies. Therefore, I would characterize the calibration for this model as weakly calibrated. "
   ]
  },
  {
   "cell_type": "markdown",
   "metadata": {
    "colab_type": "text",
    "id": "jLDISyh4hWA1"
   },
   "source": [
    "### Part 12 EXTRA CREDIT:\n",
    "\n",
    "Design new features to see if you can produce a Bernoulli Naive Bayes model with better performance.  Show the accuracy of a model based on the original features and the accuracy of the model based on the new features.\n",
    "\n",
    "Here are a few ideas to get you started:\n",
    "- Try summing or averaging the pixel values in each row.\n",
    "- Try summing or averaging the pixel values in each column.\n",
    "- Try summing or averaging the pixel values in each square block. (pick various block sizes)\n",
    "- Try counting the number of enclosed regions. (8 usually has 2 enclosed regions, 9 usually has 1, and 7 usually has 0)\n",
    "\n",
    "Notes:\n",
    "* Train on the mini train set (enhanced to comprise the new features).\n",
    "* Evaulate performance on the dev set.\n",
    "* Ensure that your code is well commented."
   ]
  },
  {
   "cell_type": "code",
   "execution_count": 14,
   "metadata": {
    "colab": {},
    "colab_type": "code",
    "id": "-P7h-t2ThWA2"
   },
   "outputs": [],
   "source": [
    "#def P12():\n",
    "\n",
    "### STUDENT START ###\n",
    "\n",
    "\n",
    "### STUDENT END ###\n",
    "\n",
    "#P12()"
   ]
  }
 ],
 "metadata": {
  "colab": {
   "name": "firstname_lastname_p1.ipynb",
   "private_outputs": true,
   "provenance": [
    {
     "file_id": "https://github.com/MIDS-W207/Master/blob/master/Projects/firstname_lastname_p1.ipynb",
     "timestamp": 1557957807607
    }
   ],
   "version": "0.3.2"
  },
  "kernelspec": {
   "display_name": "Python 3",
   "language": "python",
   "name": "python3"
  },
  "language_info": {
   "codemirror_mode": {
    "name": "ipython",
    "version": 3
   },
   "file_extension": ".py",
   "mimetype": "text/x-python",
   "name": "python",
   "nbconvert_exporter": "python",
   "pygments_lexer": "ipython3",
   "version": "3.6.8"
  },
  "toc": {
   "base_numbering": 1,
   "nav_menu": {},
   "number_sections": false,
   "sideBar": true,
   "skip_h1_title": true,
   "title_cell": "Table of Contents",
   "title_sidebar": "Contents",
   "toc_cell": false,
   "toc_position": {},
   "toc_section_display": true,
   "toc_window_display": false
  }
 },
 "nbformat": 4,
 "nbformat_minor": 1
}

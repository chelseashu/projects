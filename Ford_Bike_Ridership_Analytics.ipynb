{
 "cells": [
  {
   "cell_type": "markdown",
   "metadata": {},
   "source": [
    "# Bike Share Analytics and Recommendations for Offers\n",
    "### by Chelsea Shu"
   ]
  },
  {
   "cell_type": "markdown",
   "metadata": {},
   "source": [
    "The Ford Bikes are used quite frequently by both commuters and non-commuters. In this project, I define \"commuter trip\" and find the five most popular commuter trips. Then I analyze the usage of bikes by location, day, and time of day to best recommend offers to incentivize people to ride Ford bikes more often and to keep customer retention high. "
   ]
  },
  {
   "cell_type": "markdown",
   "metadata": {},
   "source": [
    "In order to find out the five most popular commuter trips, I first defined commuter trips as trips that take place Monday through Friday, begin and end at different stations, and are less than 1.5 hours long. Furthermore, the trip must take place from 7-9:59am and 4-6:59pm. Because these are typical commute hours, I made the assumption that the bikes are used for commuting between these hours, but to confirm, I made a histogram to demonstrate the most frequent hours that people use the bikes. "
   ]
  },
  {
   "cell_type": "code",
   "execution_count": 40,
   "metadata": {},
   "outputs": [],
   "source": [
    "import pandas as pd\n",
    "import numpy as np\n",
    "import matplotlib.pyplot as plt\n",
    "%matplotlib inline"
   ]
  },
  {
   "cell_type": "code",
   "execution_count": 55,
   "metadata": {},
   "outputs": [
    {
     "name": "stdout",
     "output_type": "stream",
     "text": [
      "\r",
      "Waiting on bqjob_r6a4661b8ce4b7af1_0000016d709ba1c9_1 ... (0s) Current status: DONE   "
     ]
    },
    {
     "data": {
      "image/png": "[encoded data removed]",
      "text/plain": [
       "<Figure size 432x288 with 1 Axes>"
      ]
     },
     "metadata": {
      "needs_background": "light"
     },
     "output_type": "display_data"
    }
   ],
   "source": [
    "! bq query --use_legacy_sql=FALSE --format=csv --max_rows=1000000 'SELECT * FROM `tidy-crane-251323.bike_trip_data.pop_hours`' > pop_hours.csv\n",
    "pop_hours = pd.read_csv(\"pop_hours.csv\")\n",
    "\n",
    "\n",
    "width = 0.05 # the width of the bars\n",
    "hours = ['12am', '1am', '2am', '3am', '4am', '5am', '6am', '7am','8am','9am','10am','11am','12pm', '1pm', '2pm', '3pm', '4pm', '5pm', '6pm', '7pm','8pm','9pm','10pm','11pm']\n",
    "hour = pop_hours.start_hour\n",
    "plt.bar(hour, pop_hours.count_hour, color = 'r')\n",
    "plt.xlabel('Day of the Week')\n",
    "plt.ylabel('Number of Trips')\n",
    "plt.title('Frequency of One Way Trips by Day of the Week')\n",
    "plt.xticks(np.arange(0, 24), hours, rotation = 'vertical')\n",
    "plt.show()"
   ]
  },
  {
   "cell_type": "markdown",
   "metadata": {},
   "source": [
    "As we can see from the the histogram above, the most popular hours that people use the bikes are the hours 7am, 8am, and 9am as well as 4pm, 5pm, and 6pm. I have highlighted those bins in green for clarity."
   ]
  },
  {
   "cell_type": "markdown",
   "metadata": {},
   "source": [
    "## The Five Most Popular Commuter Trips"
   ]
  },
  {
   "cell_type": "markdown",
   "metadata": {},
   "source": [
    "After selecting for the criteria of commuters, I counted the the number of each trip path (from start station to end station) that people take and sorted the trips from greatest amount to least amount. I have shown the five most popular trips in the table below."
   ]
  },
  {
   "cell_type": "code",
   "execution_count": 58,
   "metadata": {},
   "outputs": [
    {
     "name": "stdout",
     "output_type": "stream",
     "text": [
      "Waiting on bqjob_r7a9d4853792c8461_0000016d70a978be_1 ... (1s) Current status: DONE   "
     ]
    },
    {
     "data": {
      "text/html": [
       "<div>\n",
       "<style scoped>\n",
       "    .dataframe tbody tr th:only-of-type {\n",
       "        vertical-align: middle;\n",
       "    }\n",
       "\n",
       "    .dataframe tbody tr th {\n",
       "        vertical-align: top;\n",
       "    }\n",
       "\n",
       "    .dataframe thead th {\n",
       "        text-align: right;\n",
       "    }\n",
       "</style>\n",
       "<table border=\"1\" class=\"dataframe\">\n",
       "  <thead>\n",
       "    <tr style=\"text-align: right;\">\n",
       "      <th></th>\n",
       "      <th>start_station_name</th>\n",
       "      <th>end_station_name</th>\n",
       "      <th>num_trips</th>\n",
       "    </tr>\n",
       "  </thead>\n",
       "  <tbody>\n",
       "    <tr>\n",
       "      <th>0</th>\n",
       "      <td>2nd at Townsend</td>\n",
       "      <td>Harry Bridges Plaza (Ferry Building)</td>\n",
       "      <td>5164</td>\n",
       "    </tr>\n",
       "    <tr>\n",
       "      <th>1</th>\n",
       "      <td>Harry Bridges Plaza (Ferry Building)</td>\n",
       "      <td>2nd at Townsend</td>\n",
       "      <td>5121</td>\n",
       "    </tr>\n",
       "    <tr>\n",
       "      <th>2</th>\n",
       "      <td>San Francisco Caltrain 2 (330 Townsend)</td>\n",
       "      <td>Townsend at 7th</td>\n",
       "      <td>5033</td>\n",
       "    </tr>\n",
       "    <tr>\n",
       "      <th>3</th>\n",
       "      <td>Embarcadero at Sansome</td>\n",
       "      <td>Steuart at Market</td>\n",
       "      <td>4896</td>\n",
       "    </tr>\n",
       "    <tr>\n",
       "      <th>4</th>\n",
       "      <td>Embarcadero at Folsom</td>\n",
       "      <td>San Francisco Caltrain (Townsend at 4th)</td>\n",
       "      <td>4752</td>\n",
       "    </tr>\n",
       "  </tbody>\n",
       "</table>\n",
       "</div>"
      ],
      "text/plain": [
       "                        start_station_name  \\\n",
       "0                          2nd at Townsend   \n",
       "1     Harry Bridges Plaza (Ferry Building)   \n",
       "2  San Francisco Caltrain 2 (330 Townsend)   \n",
       "3                   Embarcadero at Sansome   \n",
       "4                    Embarcadero at Folsom   \n",
       "\n",
       "                           end_station_name  num_trips  \n",
       "0      Harry Bridges Plaza (Ferry Building)       5164  \n",
       "1                           2nd at Townsend       5121  \n",
       "2                           Townsend at 7th       5033  \n",
       "3                         Steuart at Market       4896  \n",
       "4  San Francisco Caltrain (Townsend at 4th)       4752  "
      ]
     },
     "execution_count": 58,
     "metadata": {},
     "output_type": "execute_result"
    }
   ],
   "source": [
    "! bq query --use_legacy_sql=FALSE --format=csv 'SELECT * FROM `tidy-crane-251323.bike_trip_data.trips_pop` order by num_trips DESC LIMIT 5' > trips_pop.csv\n",
    "trips_pop_5 = pd.read_csv(\"trips_pop.csv\")\n",
    "trips_pop_5"
   ]
  },
  {
   "cell_type": "markdown",
   "metadata": {},
   "source": [
    "## Recommendations\n"
   ]
  },
  {
   "cell_type": "markdown",
   "metadata": {},
   "source": [
    "### Bike Usage Based on Location"
   ]
  },
  {
   "cell_type": "markdown",
   "metadata": {},
   "source": [
    "In order to locate where the bikes could get more usage, the average percent of bikes used at each bike station was calculated. There were some data that had the total number of bikes at a station to be zero, but this data reflected moments before the installation of the station was complete, so those data were dropped.  The number of docks available represents the number of bikes used so the percentage of bikes used was calculated by dividing the number of docks available by the total number of bikes. The average of this data was then taken for each bike station, resulting in the table below, which has the ten bike stations with the least bike usage. "
   ]
  },
  {
   "cell_type": "code",
   "execution_count": 18,
   "metadata": {},
   "outputs": [
    {
     "name": "stdout",
     "output_type": "stream",
     "text": [
      "\r",
      "Waiting on bqjob_r69c203d722882a45_0000016d7070dde8_1 ... (0s) Current status: DONE   "
     ]
    },
    {
     "data": {
      "text/html": [
       "<div>\n",
       "<style scoped>\n",
       "    .dataframe tbody tr th:only-of-type {\n",
       "        vertical-align: middle;\n",
       "    }\n",
       "\n",
       "    .dataframe tbody tr th {\n",
       "        vertical-align: top;\n",
       "    }\n",
       "\n",
       "    .dataframe thead th {\n",
       "        text-align: right;\n",
       "    }\n",
       "</style>\n",
       "<table border=\"1\" class=\"dataframe\">\n",
       "  <thead>\n",
       "    <tr style=\"text-align: right;\">\n",
       "      <th></th>\n",
       "      <th>avg_percent_bikes_used</th>\n",
       "      <th>station_id</th>\n",
       "      <th>name</th>\n",
       "    </tr>\n",
       "  </thead>\n",
       "  <tbody>\n",
       "    <tr>\n",
       "      <th>0</th>\n",
       "      <td>0.417955</td>\n",
       "      <td>50</td>\n",
       "      <td>Harry Bridges Plaza (Ferry Building)</td>\n",
       "    </tr>\n",
       "    <tr>\n",
       "      <th>1</th>\n",
       "      <td>0.419324</td>\n",
       "      <td>70</td>\n",
       "      <td>San Francisco Caltrain (Townsend at 4th)</td>\n",
       "    </tr>\n",
       "    <tr>\n",
       "      <th>2</th>\n",
       "      <td>0.432527</td>\n",
       "      <td>36</td>\n",
       "      <td>California Ave Caltrain Station</td>\n",
       "    </tr>\n",
       "    <tr>\n",
       "      <th>3</th>\n",
       "      <td>0.443291</td>\n",
       "      <td>54</td>\n",
       "      <td>Embarcadero at Bryant</td>\n",
       "    </tr>\n",
       "    <tr>\n",
       "      <th>4</th>\n",
       "      <td>0.452321</td>\n",
       "      <td>3</td>\n",
       "      <td>San Jose Civic Center</td>\n",
       "    </tr>\n",
       "    <tr>\n",
       "      <th>5</th>\n",
       "      <td>0.453613</td>\n",
       "      <td>69</td>\n",
       "      <td>San Francisco Caltrain 2 (330 Townsend)</td>\n",
       "    </tr>\n",
       "    <tr>\n",
       "      <th>6</th>\n",
       "      <td>0.455564</td>\n",
       "      <td>35</td>\n",
       "      <td>University and Emerson</td>\n",
       "    </tr>\n",
       "    <tr>\n",
       "      <th>7</th>\n",
       "      <td>0.457443</td>\n",
       "      <td>74</td>\n",
       "      <td>Steuart at Market</td>\n",
       "    </tr>\n",
       "    <tr>\n",
       "      <th>8</th>\n",
       "      <td>0.457672</td>\n",
       "      <td>7</td>\n",
       "      <td>Paseo de San Antonio</td>\n",
       "    </tr>\n",
       "    <tr>\n",
       "      <th>9</th>\n",
       "      <td>0.462784</td>\n",
       "      <td>90</td>\n",
       "      <td>5th St at Folsom St</td>\n",
       "    </tr>\n",
       "  </tbody>\n",
       "</table>\n",
       "</div>"
      ],
      "text/plain": [
       "   avg_percent_bikes_used  station_id  \\\n",
       "0                0.417955          50   \n",
       "1                0.419324          70   \n",
       "2                0.432527          36   \n",
       "3                0.443291          54   \n",
       "4                0.452321           3   \n",
       "5                0.453613          69   \n",
       "6                0.455564          35   \n",
       "7                0.457443          74   \n",
       "8                0.457672           7   \n",
       "9                0.462784          90   \n",
       "\n",
       "                                       name  \n",
       "0      Harry Bridges Plaza (Ferry Building)  \n",
       "1  San Francisco Caltrain (Townsend at 4th)  \n",
       "2           California Ave Caltrain Station  \n",
       "3                     Embarcadero at Bryant  \n",
       "4                     San Jose Civic Center  \n",
       "5   San Francisco Caltrain 2 (330 Townsend)  \n",
       "6                    University and Emerson  \n",
       "7                         Steuart at Market  \n",
       "8                      Paseo de San Antonio  \n",
       "9                       5th St at Folsom St  "
      ]
     },
     "execution_count": 18,
     "metadata": {},
     "output_type": "execute_result"
    }
   ],
   "source": [
    "! bq query --use_legacy_sql=FALSE --format=csv 'SELECT * FROM `tidy-crane-251323.bike_trip_data.percent_bikes_used_with_name` order by avg_percent_bikes_used ASC LIMIT 10' > least_used_stations.csv\n",
    "least_used_stations = pd.read_csv(\"least_used_stations.csv\")\n",
    "least_used_stations"
   ]
  },
  {
   "cell_type": "markdown",
   "metadata": {},
   "source": [
    "This table shows the ten stations with the least bike usage. Most of these stations have below 50% bike usage.  In order to promote higher bike usage, I recommend a deal that offers lowered prices if the trip starts from one of these ten stations. "
   ]
  },
  {
   "cell_type": "markdown",
   "metadata": {},
   "source": [
    "### Bike Usage Based on the Day of the Week"
   ]
  },
  {
   "cell_type": "markdown",
   "metadata": {},
   "source": [
    "To explore the main reasons why people use the bikes, I decided to look at the data based on the day of the week. Note: the days of the week in the table below are numbered 1-7. The number 1 corresponds to Sunday, the number 2 corresponds to Monday, and so forth. The number 7 corresponds to Saturday. "
   ]
  },
  {
   "cell_type": "code",
   "execution_count": 44,
   "metadata": {},
   "outputs": [
    {
     "name": "stdout",
     "output_type": "stream",
     "text": [
      "\r",
      "Waiting on bqjob_r654d140e41a7f969_0000016d7093f291_1 ... (0s) Current status: DONE   "
     ]
    },
    {
     "data": {
      "image/png": "[encoded data removed]",
      "text/plain": [
       "<Figure size 432x288 with 1 Axes>"
      ]
     },
     "metadata": {
      "needs_background": "light"
     },
     "output_type": "display_data"
    }
   ],
   "source": [
    "! bq query --use_legacy_sql=FALSE --format=csv 'SELECT * FROM `tidy-crane-251323.bike_trip_data.weekends_vs_weekdays_edited`' > weekends_vs_weekdays.csv\n",
    "weekends_vs_weekdays_trips = pd.read_csv(\"weekends_vs_weekdays.csv\")\n",
    "weekends_vs_weekdays_trips\n",
    "\n",
    "\n",
    "width = 0.2 # the width of the bars\n",
    "days = 'Sun', 'Mon', 'Tues', 'Wed', 'Thurs', 'Fri', 'Sat'\n",
    "num_trip = weekends_vs_weekdays_trips.num_trips\n",
    "plt.bar(weekends_vs_weekdays_trips.day, num_trip, color = 'r')\n",
    "plt.xlabel('Day of the Week')\n",
    "plt.ylabel('Number of Trips')\n",
    "plt.title('Frequency of Trips by Day of the Week')\n",
    "plt.xticks(np.arange(1,8), days)\n",
    "plt.show()"
   ]
  },
  {
   "cell_type": "markdown",
   "metadata": {},
   "source": [
    "From this bar graph, we can see that on the days 1 and 7 (Sunday and Saturday), there are less trips than during the other days of the week. This makes me speculate that perhaps the bikes are mostly used for commuting on the weekdays. To explore this more, I look at one way and round trip data."
   ]
  },
  {
   "cell_type": "markdown",
   "metadata": {},
   "source": [
    "#### One Way Trips"
   ]
  },
  {
   "cell_type": "code",
   "execution_count": 11,
   "metadata": {},
   "outputs": [
    {
     "name": "stdout",
     "output_type": "stream",
     "text": [
      "\r",
      "Waiting on bqjob_r372bdd4b0c9a808e_0000016d704f5de3_1 ... (0s) Current status: DONE   "
     ]
    },
    {
     "data": {
      "image/png": "[encoded data removed]",
      "text/plain": [
       "<Figure size 432x288 with 1 Axes>"
      ]
     },
     "metadata": {
      "needs_background": "light"
     },
     "output_type": "display_data"
    }
   ],
   "source": [
    "! bq query --use_legacy_sql=FALSE --format=csv 'SELECT * FROM `tidy-crane-251323.bike_trip_data.oneway`' > one_way.csv\n",
    "one_way = pd.read_csv(\"one_way.csv\")\n",
    "one_way\n",
    "\n",
    "\n",
    "width = 0.2 # the width of the bars\n",
    "days = 'Sun', 'Mon', 'Tues', 'Wed', 'Thurs', 'Fri', 'Sat'\n",
    "one_way_trips = one_way.num_oneway\n",
    "plt.bar(one_way.day, one_way_trips, color = 'r')\n",
    "plt.xlabel('Day of the Week')\n",
    "plt.ylabel('Number of Trips')\n",
    "plt.title('Frequency of One Way Trips by Day of the Week')\n",
    "plt.xticks(np.arange(1,8), days)\n",
    "plt.show()"
   ]
  },
  {
   "cell_type": "markdown",
   "metadata": {},
   "source": [
    "As we can see from the bar graph, there are signifcantly more one way trips on the weekdays than on the weekends."
   ]
  },
  {
   "cell_type": "markdown",
   "metadata": {},
   "source": [
    "#### Round Trip Frequency\n"
   ]
  },
  {
   "cell_type": "code",
   "execution_count": 59,
   "metadata": {},
   "outputs": [
    {
     "name": "stdout",
     "output_type": "stream",
     "text": [
      "\r",
      "Waiting on bqjob_r7ffda307b75ee3a4_0000016d70ac65d1_1 ... (0s) Current status: DONE   "
     ]
    },
    {
     "data": {
      "image/png": "[encoded data removed]",
      "text/plain": [
       "<Figure size 432x288 with 1 Axes>"
      ]
     },
     "metadata": {
      "needs_background": "light"
     },
     "output_type": "display_data"
    }
   ],
   "source": [
    "! bq query --use_legacy_sql=FALSE --format=csv 'SELECT * FROM `tidy-crane-251323.bike_trip_data.round_trip`' > round_trip.csv\n",
    "\n",
    "round_trip = pd.read_csv(\"round_trip.csv\")\n",
    "round_trip\n",
    "    \n",
    "width = 0.2 # the width of the bars\n",
    "days = 'Sun', 'Mon', 'Tues', 'Wed', 'Thurs', 'Fri', 'Sat'\n",
    "round_trip_trips = round_trip.num_round_trip\n",
    "plt.bar(round_trip.day, round_trip_trips, color = 'r')\n",
    "plt.xlabel('Day of the Week')\n",
    "plt.ylabel('Number of Round Trips')\n",
    "plt.title('Frequency of Round Trips by Day of the Week')\n",
    "plt.xticks(np.arange(1,8), days)\n",
    "plt.show()"
   ]
  },
  {
   "cell_type": "markdown",
   "metadata": {},
   "source": [
    "As we can see from the bar chart above, there are more round trip trips on the weekends than the weekdays.  To explore why this difference exists, I analyze the average length of trips taken by each day of the week below. "
   ]
  },
  {
   "cell_type": "markdown",
   "metadata": {},
   "source": [
    "#### Average Trip Length by Day"
   ]
  },
  {
   "cell_type": "code",
   "execution_count": 15,
   "metadata": {},
   "outputs": [
    {
     "name": "stdout",
     "output_type": "stream",
     "text": [
      "\r",
      "Waiting on bqjob_r19198632d24b1081_0000016d70507124_1 ... (0s) Current status: DONE   "
     ]
    },
    {
     "data": {
      "image/png": "[encoded data removed]",
      "text/plain": [
       "<Figure size 432x288 with 1 Axes>"
      ]
     },
     "metadata": {
      "needs_background": "light"
     },
     "output_type": "display_data"
    }
   ],
   "source": [
    "! bq query --use_legacy_sql=FALSE --format=csv 'SELECT * FROM `tidy-crane-251323.bike_trip_data.avg_trip_time` order by avg_trip_time desc' > avg_trip_time_per_day.csv\n",
    "\n",
    "avg_trip_time_by_day = pd.read_csv(\"avg_trip_time_per_day.csv\")\n",
    "\n",
    "\n",
    "\n",
    "width = 0.2 # the width of the bars\n",
    "days = 'Sun', 'Mon', 'Tues', 'Wed', 'Thurs', 'Fri', 'Sat'\n",
    "avg_trip = avg_trip_time_by_day.avg_trip_time\n",
    "plt.bar(avg_trip_time_by_day.day, avg_trip, color = 'r')\n",
    "plt.xlabel('Day of the Week')\n",
    "plt.ylabel('Average Trip Length (Minutes)')\n",
    "plt.title('Average Trip Length By Day')\n",
    "plt.xticks(np.arange(1,8), days)\n",
    "\n",
    "plt.show()"
   ]
  },
  {
   "cell_type": "markdown",
   "metadata": {},
   "source": [
    "As we can see from the bar plot above, the average trip length is higher on the weekends than the weekdays. On the weekends, the average trip length is approximately 40 minutes whereas the average trip length is approximately 16 minutes on the weekdays. \n",
    "\n",
    "\n",
    "Combining our results about one way trips, round trips, and average trip length, I come to the conclusion that there are more one way trips on the weekdays than the weekends because people are using the bikes for commuting.  There are less trips overall on the weekends than the weekdays; however, there are more round trip trips and longer trips on the weekends than the weekdays. Longer trips and round trip trips imply that the bikes are not being used as a means of transportation, but rather for recreation.  \n",
    "\n",
    "From my findings here, I recommend an offer that would offer a flat (discounted) rate for four hours on the weekends only. If the normal rate for bikes is two dollars per half hour, then I would make the four hour rate on the weekend to be thirteen dollars rather than the sixteen dollars it would cost if there was no deal. It is important that this new discounted deal is cheaper than the day pass by a little; otherwise, people would not think that this is a deal. The goal of this offer is to incentivize people to use the bikes on the weekends, which is when there is the least usage. Additionally, it seems that the people who do use the bikes on the weekend use them for leisure, so we want to target and promote usage of bikes in that way by offering the four hour deal. "
   ]
  },
  {
   "cell_type": "markdown",
   "metadata": {},
   "source": [
    "### Bike Usage Based on Time of Day"
   ]
  },
  {
   "cell_type": "code",
   "execution_count": 37,
   "metadata": {},
   "outputs": [
    {
     "name": "stdout",
     "output_type": "stream",
     "text": [
      "\r",
      "Waiting on bqjob_r6acca13724cfc04f_0000016d7089acca_1 ... (0s) Current status: DONE   "
     ]
    },
    {
     "data": {
      "text/html": [
       "<div>\n",
       "<style scoped>\n",
       "    .dataframe tbody tr th:only-of-type {\n",
       "        vertical-align: middle;\n",
       "    }\n",
       "\n",
       "    .dataframe tbody tr th {\n",
       "        vertical-align: top;\n",
       "    }\n",
       "\n",
       "    .dataframe thead th {\n",
       "        text-align: right;\n",
       "    }\n",
       "</style>\n",
       "<table border=\"1\" class=\"dataframe\">\n",
       "  <thead>\n",
       "    <tr style=\"text-align: right;\">\n",
       "      <th></th>\n",
       "      <th>hour</th>\n",
       "      <th>count</th>\n",
       "    </tr>\n",
       "  </thead>\n",
       "  <tbody>\n",
       "    <tr>\n",
       "      <th>0</th>\n",
       "      <td>23</td>\n",
       "      <td>6195</td>\n",
       "    </tr>\n",
       "    <tr>\n",
       "      <th>1</th>\n",
       "      <td>22</td>\n",
       "      <td>10270</td>\n",
       "    </tr>\n",
       "    <tr>\n",
       "      <th>2</th>\n",
       "      <td>21</td>\n",
       "      <td>15258</td>\n",
       "    </tr>\n",
       "    <tr>\n",
       "      <th>3</th>\n",
       "      <td>6</td>\n",
       "      <td>20519</td>\n",
       "    </tr>\n",
       "    <tr>\n",
       "      <th>4</th>\n",
       "      <td>20</td>\n",
       "      <td>22747</td>\n",
       "    </tr>\n",
       "    <tr>\n",
       "      <th>5</th>\n",
       "      <td>14</td>\n",
       "      <td>37852</td>\n",
       "    </tr>\n",
       "    <tr>\n",
       "      <th>6</th>\n",
       "      <td>11</td>\n",
       "      <td>40407</td>\n",
       "    </tr>\n",
       "    <tr>\n",
       "      <th>7</th>\n",
       "      <td>19</td>\n",
       "      <td>41071</td>\n",
       "    </tr>\n",
       "    <tr>\n",
       "      <th>8</th>\n",
       "      <td>10</td>\n",
       "      <td>42782</td>\n",
       "    </tr>\n",
       "    <tr>\n",
       "      <th>9</th>\n",
       "      <td>13</td>\n",
       "      <td>43714</td>\n",
       "    </tr>\n",
       "    <tr>\n",
       "      <th>10</th>\n",
       "      <td>12</td>\n",
       "      <td>46950</td>\n",
       "    </tr>\n",
       "    <tr>\n",
       "      <th>11</th>\n",
       "      <td>15</td>\n",
       "      <td>47626</td>\n",
       "    </tr>\n",
       "    <tr>\n",
       "      <th>12</th>\n",
       "      <td>7</td>\n",
       "      <td>67531</td>\n",
       "    </tr>\n",
       "    <tr>\n",
       "      <th>13</th>\n",
       "      <td>18</td>\n",
       "      <td>84569</td>\n",
       "    </tr>\n",
       "    <tr>\n",
       "      <th>14</th>\n",
       "      <td>16</td>\n",
       "      <td>88755</td>\n",
       "    </tr>\n",
       "    <tr>\n",
       "      <th>15</th>\n",
       "      <td>9</td>\n",
       "      <td>96118</td>\n",
       "    </tr>\n",
       "    <tr>\n",
       "      <th>16</th>\n",
       "      <td>17</td>\n",
       "      <td>126302</td>\n",
       "    </tr>\n",
       "    <tr>\n",
       "      <th>17</th>\n",
       "      <td>8</td>\n",
       "      <td>132464</td>\n",
       "    </tr>\n",
       "  </tbody>\n",
       "</table>\n",
       "</div>"
      ],
      "text/plain": [
       "    hour   count\n",
       "0     23    6195\n",
       "1     22   10270\n",
       "2     21   15258\n",
       "3      6   20519\n",
       "4     20   22747\n",
       "5     14   37852\n",
       "6     11   40407\n",
       "7     19   41071\n",
       "8     10   42782\n",
       "9     13   43714\n",
       "10    12   46950\n",
       "11    15   47626\n",
       "12     7   67531\n",
       "13    18   84569\n",
       "14    16   88755\n",
       "15     9   96118\n",
       "16    17  126302\n",
       "17     8  132464"
      ]
     },
     "execution_count": 37,
     "metadata": {},
     "output_type": "execute_result"
    }
   ],
   "source": [
    "! bq query --use_legacy_sql=FALSE --format=csv 'SELECT * FROM `tidy-crane-251323.bike_trip_data.amount_trips_by_hour`' > trips_by_hour.csv\n",
    "\n",
    "trips_by_hour = pd.read_csv(\"trips_by_hour.csv\")\n",
    "trips_by_hour\n"
   ]
  },
  {
   "cell_type": "markdown",
   "metadata": {},
   "source": [
    "As we can see from the table above, the hours with the least bike usage are the hours 23, 22, and 21, which are 11pm, 10pm, and 9pm.  From this data, I recommend offering a deal that allows usage of the bikes for a fraction of the price from 9pm to 12am. Not many people use bikes when it is late at night, so offering a deal for a low price will incentivize riders to use the bikes at night. Additionally, it could be promoted and advertised that the bikes could be used for safety purposes, as they could help people get home safer, rather than walking in the dark late at night. "
   ]
  },
  {
   "cell_type": "markdown",
   "metadata": {},
   "source": [
    "## Conclusion"
   ]
  },
  {
   "cell_type": "markdown",
   "metadata": {},
   "source": [
    "In conclusion, the five most popular \"commuter trips\" are the trips from:\n",
    "    1. 2nd at Townsend to Harry Bridges Plaza (Ferry Building)\n",
    "    2. Harry Bridges Plaza (Ferry Building) to 2nd at Townsend \n",
    "    3. San Francisco Caltrain 2 (330 Townsend) to Townsend at 7th\t\n",
    "    4. Embarcadero at Sansome to Steuart at Market\n",
    "    5. Embarcadero at Folsom to San Francisco Caltrain (Townsend at 4th)\n",
    "    \n",
    " \n",
    "Based on my findings, I recommend that we offer three additional deals:\n",
    "    1. Offer lowered rates if the bike trip starts from the ten stations that have the least bike usage\n",
    "    2. Offer a flat discounted rate for four hours on the weekends only\n",
    "    3. Offer a very discounted rate for the usage of bikes from 9pm to midnight\n",
    "\n",
    "I recognize that commuter trips were the focus; however, commuter trips are the main usage of bikes, so I think it would be beneficial to offer some deals that could be geared towards non-commuters because that is where bike usage is lacking. With the right advertising and the right deals, bike ridership can be increased. "
   ]
  }
 ],
 "metadata": {
  "kernelspec": {
   "display_name": "Python 3",
   "language": "python",
   "name": "python3"
  },
  "language_info": {
   "codemirror_mode": {
    "name": "ipython",
    "version": 3
   },
   "file_extension": ".py",
   "mimetype": "text/x-python",
   "name": "python",
   "nbconvert_exporter": "python",
   "pygments_lexer": "ipython3",
   "version": "3.6.8"
  }
 },
 "nbformat": 4,
 "nbformat_minor": 2
}
